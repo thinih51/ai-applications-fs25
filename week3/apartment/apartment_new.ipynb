{
 "cells": [
  {
   "cell_type": "code",
   "execution_count": 2,
   "metadata": {},
   "outputs": [],
   "source": [
    "import gradio as gr\n",
    "import pandas as pd\n",
    "import numpy as np\n",
    "import pickle"
   ]
  },
  {
   "cell_type": "code",
   "execution_count": 3,
   "metadata": {},
   "outputs": [],
   "source": [
    "# Load data and model\n",
    "df_bfs_data = pd.read_csv('bfs_municipality_and_tax_data.csv', sep=',', encoding='utf-8')\n",
    "df_bfs_data['tax_income'] = df_bfs_data['tax_income'].str.replace(\"'\", \"\").astype(float)\n",
    "\n",
    "with open('random_forest_regression.pkl', 'rb') as f:\n",
    "    random_forest_model = pickle.load(f)"
   ]
  },
  {
   "cell_type": "code",
   "execution_count": 4,
   "metadata": {},
   "outputs": [],
   "source": [
    "locations = {\n",
    "    \"Zürich\": 261,\n",
    "    \"Kloten\": 62,\n",
    "    \"Uster\": 198,\n",
    "    \"Illnau-Effretikon\": 296,\n",
    "    \"Feuerthalen\": 27,\n",
    "    \"Pfäffikon\": 177,\n",
    "    \"Ottenbach\": 11,\n",
    "    \"Dübendorf\": 191,\n",
    "    \"Richterswil\": 138,\n",
    "    \"Maur\": 195,\n",
    "    \"Embrach\": 56,\n",
    "    \"Bülach\": 53,\n",
    "    \"Winterthur\": 230,\n",
    "    \"Oetwil am See\": 157,\n",
    "    \"Russikon\": 178,\n",
    "    \"Obfelden\": 10,\n",
    "    \"Wald (ZH)\": 120,\n",
    "    \"Niederweningen\": 91,\n",
    "    \"Dällikon\": 84,\n",
    "    \"Buchs (ZH)\": 83,\n",
    "    \"Rüti (ZH)\": 118,\n",
    "    \"Hittnau\": 173,\n",
    "    \"Bassersdorf\": 52,\n",
    "    \"Glattfelden\": 58,\n",
    "    \"Opfikon\": 66,\n",
    "    \"Hinwil\": 117,\n",
    "    \"Regensberg\": 95,\n",
    "    \"Langnau am Albis\": 136,\n",
    "    \"Dietikon\": 243,\n",
    "    \"Erlenbach (ZH)\": 151,\n",
    "    \"Kappel am Albis\": 6,\n",
    "    \"Stäfa\": 158,\n",
    "    \"Zell (ZH)\": 231,\n",
    "    \"Turbenthal\": 228,\n",
    "    \"Oberglatt\": 92,\n",
    "    \"Winkel\": 72,\n",
    "    \"Volketswil\": 199,\n",
    "    \"Kilchberg (ZH)\": 135,\n",
    "    \"Wetzikon (ZH)\": 121,\n",
    "    \"Zumikon\": 160,\n",
    "    \"Weisslingen\": 180,\n",
    "    \"Elsau\": 219,\n",
    "    \"Hettlingen\": 221,\n",
    "    \"Rüschlikon\": 139,\n",
    "    \"Stallikon\": 13,\n",
    "    \"Dielsdorf\": 86,\n",
    "    \"Wallisellen\": 69,\n",
    "    \"Dietlikon\": 54,\n",
    "    \"Meilen\": 156,\n",
    "    \"Wangen-Brüttisellen\": 200,\n",
    "    \"Flaach\": 28,\n",
    "    \"Regensdorf\": 96,\n",
    "    \"Niederhasli\": 90,\n",
    "    \"Bauma\": 297,\n",
    "    \"Aesch (ZH)\": 241,\n",
    "    \"Schlieren\": 247,\n",
    "    \"Dürnten\": 113,\n",
    "    \"Unterengstringen\": 249,\n",
    "    \"Gossau (ZH)\": 115,\n",
    "    \"Oberengstringen\": 245,\n",
    "    \"Schleinikon\": 98,\n",
    "    \"Aeugst am Albis\": 1,\n",
    "    \"Rheinau\": 38,\n",
    "    \"Höri\": 60,\n",
    "    \"Rickenbach (ZH)\": 225,\n",
    "    \"Rafz\": 67,\n",
    "    \"Adliswil\": 131,\n",
    "    \"Zollikon\": 161,\n",
    "    \"Urdorf\": 250,\n",
    "    \"Hombrechtikon\": 153,\n",
    "    \"Birmensdorf (ZH)\": 242,\n",
    "    \"Fehraltorf\": 172,\n",
    "    \"Weiach\": 102,\n",
    "    \"Männedorf\": 155,\n",
    "    \"Küsnacht (ZH)\": 154,\n",
    "    \"Hausen am Albis\": 4,\n",
    "    \"Hochfelden\": 59,\n",
    "    \"Fällanden\": 193,\n",
    "    \"Greifensee\": 194,\n",
    "    \"Mönchaltorf\": 196,\n",
    "    \"Dägerlen\": 214,\n",
    "    \"Thalheim an der Thur\": 39,\n",
    "    \"Uetikon am See\": 159,\n",
    "    \"Seuzach\": 227,\n",
    "    \"Uitikon\": 248,\n",
    "    \"Affoltern am Albis\": 2,\n",
    "    \"Geroldswil\": 244,\n",
    "    \"Niederglatt\": 89,\n",
    "    \"Thalwil\": 141,\n",
    "    \"Rorbas\": 68,\n",
    "    \"Pfungen\": 224,\n",
    "    \"Weiningen (ZH)\": 251,\n",
    "    \"Bubikon\": 112,\n",
    "    \"Neftenbach\": 223,\n",
    "    \"Mettmenstetten\": 9,\n",
    "    \"Otelfingen\": 94,\n",
    "    \"Flurlingen\": 29,\n",
    "    \"Stadel\": 100,\n",
    "    \"Grüningen\": 116,\n",
    "    \"Henggart\": 31,\n",
    "    \"Dachsen\": 25,\n",
    "    \"Bonstetten\": 3,\n",
    "    \"Bachenbülach\": 51,\n",
    "    \"Horgen\": 295\n",
    "}"
   ]
  },
  {
   "cell_type": "code",
   "execution_count": 5,
   "metadata": {},
   "outputs": [],
   "source": [
    "def predict_apartment(rooms, area, town):\n",
    "    bfs_number = locations.get(town)\n",
    "    if bfs_number is None:\n",
    "        return \"Town not found. Please select a valid town.\"\n",
    "    df = df_bfs_data[df_bfs_data['bfs_number'] == bfs_number].copy()\n",
    "    df.reset_index(inplace=True)\n",
    "    df.loc[0, 'rooms'] = rooms\n",
    "    df.loc[0, 'area'] = area\n",
    "    prediction = random_forest_model.predict(df[['rooms', 'area', 'pop', 'pop_dens', 'frg_pct', 'emp', 'tax_income']])\n",
    "    return np.round(prediction[0], 0)"
   ]
  },
  {
   "cell_type": "code",
   "execution_count": 6,
   "metadata": {},
   "outputs": [],
   "source": [
    "def compare_apartments(rooms1, area1, town1, rooms2, area2, town2):\n",
    "    price1 = predict_apartment(rooms1, area1, town1)\n",
    "    price2 = predict_apartment(rooms2, area2, town2)\n",
    "    difference = np.abs(price1 - price2)\n",
    "    return price1, price2, difference"
   ]
  },
  {
   "cell_type": "code",
   "execution_count": 7,
   "metadata": {},
   "outputs": [
    {
     "name": "stdout",
     "output_type": "stream",
     "text": [
      "* Running on local URL:  http://127.0.0.1:7864\n",
      "\n",
      "To create a public link, set `share=True` in `launch()`.\n"
     ]
    },
    {
     "data": {
      "text/html": [
       "<div><iframe src=\"http://127.0.0.1:7864/\" width=\"100%\" height=\"500\" allow=\"autoplay; camera; microphone; clipboard-read; clipboard-write;\" frameborder=\"0\" allowfullscreen></iframe></div>"
      ],
      "text/plain": [
       "<IPython.core.display.HTML object>"
      ]
     },
     "metadata": {},
     "output_type": "display_data"
    },
    {
     "data": {
      "text/plain": []
     },
     "execution_count": 7,
     "metadata": {},
     "output_type": "execute_result"
    }
   ],
   "source": [
    "# Gradio Blocks Interface with structured layout\n",
    "demo = gr.Blocks()\n",
    "\n",
    "with demo:\n",
    "    gr.Markdown(\"## 🏘️ Apartment Price Comparison\")\n",
    "    gr.Markdown(\"Enter details for two apartments to see individual prices and the difference.\")\n",
    "\n",
    "    with gr.Row():\n",
    "        with gr.Column():\n",
    "            gr.Markdown(\"### Apartment 1\")\n",
    "            rooms1 = gr.Number(label=\"Rooms\")\n",
    "            area1 = gr.Number(label=\"Area (m²)\")\n",
    "            town1 = gr.Dropdown(choices=list(locations.keys()), label=\"Town\")\n",
    "        with gr.Column():\n",
    "            gr.Markdown(\"### Apartment 2\")\n",
    "            rooms2 = gr.Number(label=\"Rooms\")\n",
    "            area2 = gr.Number(label=\"Area (m²)\")\n",
    "            town2 = gr.Dropdown(choices=list(locations.keys()), label=\"Town\")\n",
    "\n",
    "    compare_btn = gr.Button(\"Compare Prices\")\n",
    "\n",
    "    with gr.Row():\n",
    "        price1 = gr.Number(label=\"Price Apartment 1\")\n",
    "        price2 = gr.Number(label=\"Price Apartment 2\")\n",
    "        difference = gr.Number(label=\"Price Difference\")\n",
    "\n",
    "    compare_btn.click(\n",
    "        fn=compare_apartments,\n",
    "        inputs=[rooms1, area1, town1, rooms2, area2, town2],\n",
    "        outputs=[price1, price2, difference]\n",
    "    )\n",
    "\n",
    "    gr.Examples(\n",
    "        examples=[\n",
    "            [4, 100, \"Zürich\", 3.5, 80, \"Winterthur\"],\n",
    "            [3, 75, \"Uster\", 2.5, 60, \"Dietlikon\"]\n",
    "        ],\n",
    "        inputs=[rooms1, area1, town1, rooms2, area2, town2]\n",
    "    )\n",
    "\n",
    "demo.launch()"
   ]
  }
 ],
 "metadata": {
  "kernelspec": {
   "display_name": "Python 3",
   "language": "python",
   "name": "python3"
  },
  "language_info": {
   "codemirror_mode": {
    "name": "ipython",
    "version": 3
   },
   "file_extension": ".py",
   "mimetype": "text/x-python",
   "name": "python",
   "nbconvert_exporter": "python",
   "pygments_lexer": "ipython3",
   "version": "3.12.4"
  }
 },
 "nbformat": 4,
 "nbformat_minor": 2
}
